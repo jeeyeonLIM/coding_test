{
 "cells": [
  {
   "cell_type": "markdown",
   "metadata": {},
   "source": [
    "### 해시 = dict \n",
    "- 무조건 dict 형태로 풀기"
   ]
  },
  {
   "cell_type": "markdown",
   "metadata": {},
   "source": [
    "### 완주하지 못한 선수"
   ]
  },
  {
   "cell_type": "code",
   "execution_count": null,
   "metadata": {},
   "outputs": [],
   "source": [
    "def solution(participant, completion):\n",
    "    participant.sort()\n",
    "    completion.sort()\n",
    "    for i in range(len(completion)): # 개수가 1개 더 작은 completion크기만큼 돌릴거야\n",
    "        if participant[i] != completion[i]: # 만약 같은 index에 값이 다르다면 \n",
    "            return participant[i]           # 참가자 중 한명을 고를거야\n",
    "    return participant[-1]                  # 끝날때까지 return되는 게 없으면 participant의 맨 마지막 값일것임."
   ]
  },
  {
   "cell_type": "code",
   "execution_count": 44,
   "metadata": {},
   "outputs": [],
   "source": [
    "import collections\n",
    "\n",
    "def solution(participant, completion):\n",
    "    print(collections.Counter(participant))\n",
    "    answer = collections.Counter(participant) - collections.Counter(completion)\n",
    "    return list(answer.keys())[0]"
   ]
  },
  {
   "cell_type": "code",
   "execution_count": 55,
   "metadata": {},
   "outputs": [],
   "source": [
    "def solution(participant, completion):\n",
    "    \n",
    "    # 해시맵 생성 - 참가자 기준으로\n",
    "    hash_map = {}\n",
    "    for i in participant:\n",
    "        if i not in hash_map.keys():\n",
    "            hash_map[i] = 1\n",
    "        else :\n",
    "            hash_map[i] += 1\n",
    "    \n",
    "    # 완주자 기준 검사해주기\n",
    "    for i in completion:\n",
    "        if i in hash_map.keys():\n",
    "            hash_map[i] -= 1 # \n",
    "    \n",
    "    # value로 key찾기 (value=1인 key가져오기)\n",
    "    # method1. items + list comprehension\n",
    "    key = [k for k,v in hash_map.items() if v == 1]\n",
    "    return ''.join(key) # ['leo'] 형태를 'leo' 형태로 바꿔주려고\n",
    "    \n",
    "    # method2. key <-> value 뒤집은 dictionary 만들기\n",
    "    reverse_dict = {v:k for k,v in hash_map.items()}\n",
    "    return reverse_dict[1]\n",
    "    \n",
    "    "
   ]
  },
  {
   "cell_type": "code",
   "execution_count": 56,
   "metadata": {},
   "outputs": [
    {
     "data": {
      "text/plain": [
       "'leo'"
      ]
     },
     "execution_count": 56,
     "metadata": {},
     "output_type": "execute_result"
    }
   ],
   "source": [
    "solution([\"leo\", \"kiki\", \"eden\"],[\"eden\", \"kiki\"])"
   ]
  },
  {
   "cell_type": "code",
   "execution_count": 57,
   "metadata": {},
   "outputs": [
    {
     "data": {
      "text/plain": [
       "'mislav'"
      ]
     },
     "execution_count": 57,
     "metadata": {},
     "output_type": "execute_result"
    }
   ],
   "source": [
    "solution([\"mislav\", \"stanko\", \"mislav\", \"ana\"], [\"stanko\", \"ana\", \"mislav\"])"
   ]
  },
  {
   "cell_type": "markdown",
   "metadata": {},
   "source": [
    "### 전화번호 목록\n",
    "- 오래걸렸던 부분 : 이걸 어떻게 해시로 해?? \n",
    "- 나는 while문을 잘 못쓴다.\n"
   ]
  },
  {
   "cell_type": "code",
   "execution_count": 89,
   "metadata": {},
   "outputs": [],
   "source": [
    "## hashmap\n",
    "\n",
    "def solution(phone_book):\n",
    "    \n",
    "    # answer 값의 디폴트 값은 True로 주기\n",
    "    answer = True \n",
    "    \n",
    "    # 해시맵 생성\n",
    "    hash_map = {}\n",
    "    for i in phone_book:\n",
    "        hash_map[i] = 1\n",
    "    \n",
    "    # [\"119\", \"97674223\", \"1195524421\"] 값이 들어올 때\n",
    "    # 1 11 119 검사하고 9 97 이런식으로 검사 \n",
    "    for phone_number in phone_book:\n",
    "        temp = \"\" \n",
    "        for number in phone_number:\n",
    "            temp += number \n",
    "            \n",
    "            # key값을 지정해주지 않고 hash_map이라고 지정하면 검사해줌\n",
    "            # 첫번째 119가 들어올 경우 119와 일치하므로 pass\n",
    "            # 1195524421가 들어올 때는 temp값이 119일때 첫번째에 119와 일치하므로 False\n",
    "            if temp in hash_map and temp != phone_number:\n",
    "                answer = False\n",
    "                break # 속도를 위해\n",
    "                \n",
    "    return answer\n",
    "    \n",
    "    \n",
    "    "
   ]
  },
  {
   "cell_type": "code",
   "execution_count": 210,
   "metadata": {},
   "outputs": [],
   "source": [
    "# 문자열로 풀기\n",
    "\n",
    "# ------------\n",
    "# Setting \n",
    "# index를 반복해서 len, phone_book[index] 이용할 것.\n",
    "# string 형태일때와 int일 때 주의하기\n",
    "# ------------\n",
    "\n",
    "def solution(phone_book):\n",
    "    \n",
    "    # answer 값의 디폴트 값은 True로 주기\n",
    "    answer = True \n",
    "    \n",
    "    phone_book=sorted(phone_book)\n",
    "    \n",
    "    for i in range(len(phone_book)):\n",
    "        for j in range(i+1,len(phone_book)): # 주의 i+1부터 \n",
    "            \n",
    "            # i번째값과 i번째 값의 자리수(길이) 확인\n",
    "            # print( str(phone_book[i]), len(str(phone_book[i]))  ) \n",
    "            \n",
    "            # j번째값과 j번째 값의 앞에서부터 \n",
    "            # print( str(phone_book[j]), str(phone_book[j])[0:len(str(phone_book[i]))]   )      \n",
    "            \n",
    "            if str(phone_book[i]) == str(phone_book[j])[0:len(str(phone_book[i]))]:\n",
    "                return False\n",
    "                break\n",
    "    return answer \n",
    "\n",
    "\n",
    "### 이슈 발견 \n",
    "# 만약 여기서 앞에서 sorting 안해주면 Test case 틀린다."
   ]
  },
  {
   "cell_type": "code",
   "execution_count": 239,
   "metadata": {},
   "outputs": [],
   "source": [
    "# 오픈챗에서 착하신 분이 해결해주셨다.. \n",
    "# 이슈의 이유는 내가 뒤에 있는 리스트가 더 길다고 암묵적으로 가정한 것이기 때문에\n",
    "# 만약 \"1195524421\" \"119\" 순서대로 나오면 못찾아내는 것임........ \n",
    "\n",
    "# 따라서 아래와 같이 min(a,b) 이렇게 바꿔주면 가능하.\n",
    "\n",
    "def solution(phone_book):\n",
    "\n",
    "    for i in range(len(phone_book)):\n",
    "        for j in range(i+1,len(phone_book)): \n",
    "            a, b = str(phone_book[i]), str(phone_book[j]) # 편리하다..\n",
    "            if a[0:min(len(a), len(b))] == b[0:min(len(a), len(b))]:\n",
    "                return False\n",
    "    return True "
   ]
  },
  {
   "cell_type": "code",
   "execution_count": 236,
   "metadata": {},
   "outputs": [],
   "source": [
    "# startwith 함수로 풀기\n",
    "def solution(phone_book):\n",
    "    \n",
    "    # answer 값의 디폴트 값은 True로 주기\n",
    "    answer = True \n",
    "    \n",
    "    # sort 해줬기 때문에 zip으로 바로 다음 원소와만 비교 가능한 것임.\n",
    "    phone_book = sorted(phone_book) # \n",
    "#     print(  phone_book, phone_book[1:] ) \n",
    "#     print(  list(zip(phone_book, phone_book[1:]) ) )\n",
    "    \n",
    "    for p1, p2 in zip(phone_book,phone_book[1:] ):\n",
    "        # print(p1,p2)\n",
    "        if p2.startwith(p1): # p2 시작하는 값이 p1으로 시작한다면 \n",
    "            return False\n",
    "        \n",
    "    return answer\n",
    "\n",
    "        \n",
    "### 참고 \n",
    "\n",
    "lists = [\"1\", \"a\", \"3\", \"x\", \"c\", \"10\"]\n",
    "lists = sorted(lists)\n",
    "print(lists) # ['1', '10', '3', 'a', 'c', 'x'] "
   ]
  },
  {
   "cell_type": "code",
   "execution_count": 240,
   "metadata": {},
   "outputs": [
    {
     "name": "stdout",
     "output_type": "stream",
     "text": [
      "119 97674223\n",
      "119 1195524421\n",
      "97674223 1195524421\n"
     ]
    }
   ],
   "source": [
    "solution([\"119\", \"97674223\", \"1195524421\"])"
   ]
  },
  {
   "cell_type": "code",
   "execution_count": 241,
   "metadata": {},
   "outputs": [
    {
     "name": "stdout",
     "output_type": "stream",
     "text": [
      "123 456\n",
      "123 789\n",
      "456 789\n"
     ]
    }
   ],
   "source": [
    "solution([\"123\",\"456\",\"789\"])"
   ]
  },
  {
   "cell_type": "code",
   "execution_count": 242,
   "metadata": {},
   "outputs": [
    {
     "name": "stdout",
     "output_type": "stream",
     "text": [
      "12 123\n",
      "12 1235\n",
      "12 567\n",
      "12 88\n",
      "123 1235\n",
      "123 567\n",
      "123 88\n",
      "1235 567\n",
      "1235 88\n",
      "567 88\n"
     ]
    }
   ],
   "source": [
    "solution([\"12\",\"123\",\"1235\",\"567\",\"88\"])"
   ]
  },
  {
   "cell_type": "markdown",
   "metadata": {},
   "source": [
    "### 위장\n"
   ]
  },
  {
   "cell_type": "code",
   "execution_count": 293,
   "metadata": {},
   "outputs": [],
   "source": [
    "from functools import reduce   # 파이썬 3에\n",
    "\n",
    "def solution(clothes):\n",
    "    \n",
    "    # 해시맵 생성 \n",
    "    hash_map = {}\n",
    "    for i in clothes:\n",
    "        if i[1] not in hash_map:\n",
    "            hash_map[i[1]] = 1 # 굳이 yellowhat이렇게 담아줄필요가 없음. 개수만 \n",
    "        else :\n",
    "            hash_map[i[1]] += 1\n",
    "    #print(hash_map)\n",
    "    \n",
    "    # 해시맵은 from collections import Counter 에서 Counter 함수를 이용할 수도 있음.\n",
    "    hash_map = Counter([y for x,y in clothes])\n",
    "    print(hash_map) # Counter({'headgear': 2, 'eyewear': 1})\n",
    "    \n",
    "    return reduce(lambda x,y:(x+1)*(y+1)-1, hash_map.values()) \n",
    "\n",
    "    # -1 은 (0,0)인 경우 제외해야 하므로!!\n",
    "    "
   ]
  },
  {
   "cell_type": "code",
   "execution_count": 294,
   "metadata": {},
   "outputs": [
    {
     "name": "stdout",
     "output_type": "stream",
     "text": [
      "Counter({'headgear': 2, 'eyewear': 1})\n"
     ]
    },
    {
     "data": {
      "text/plain": [
       "5"
      ]
     },
     "execution_count": 294,
     "metadata": {},
     "output_type": "execute_result"
    }
   ],
   "source": [
    "solution([[\"yellowhat\", \"headgear\"], \n",
    " [\"bluesunglasses\", \"eyewear\"], \n",
    " [\"green_turban\", \"headgear\"]])"
   ]
  },
  {
   "cell_type": "code",
   "execution_count": 295,
   "metadata": {},
   "outputs": [
    {
     "name": "stdout",
     "output_type": "stream",
     "text": [
      "Counter({'face': 3})\n"
     ]
    },
    {
     "data": {
      "text/plain": [
       "3"
      ]
     },
     "execution_count": 295,
     "metadata": {},
     "output_type": "execute_result"
    }
   ],
   "source": [
    "solution([[\"crowmask\", \"face\"], [\"bluesunglasses\", \"face\"], [\"smoky_makeup\", \"face\"]])"
   ]
  },
  {
   "cell_type": "markdown",
   "metadata": {},
   "source": [
    "### 베스트앨범"
   ]
  },
  {
   "cell_type": "code",
   "execution_count": 373,
   "metadata": {},
   "outputs": [],
   "source": [
    "# 원래 하던 방식으로다가\n",
    "\n",
    "def solution(genres, plays):\n",
    "    \n",
    "    \n",
    "    hash_map = {}\n",
    "    for i in set(genres):\n",
    "        hash_map[i] = []\n",
    "    \n",
    "    for i in range(len(genres)):\n",
    "        hash_map[genres[i]].append( [i ,plays[i]] )\n",
    "        \n",
    "    print(hash_map)\n",
    "    \n",
    "    \n",
    "        first_sort = print([x for x,y in hash_map_tolist])\n",
    "    \n",
    "    \n",
    "    print( list(zip(genres, plays)) )"
   ]
  },
  {
   "cell_type": "code",
   "execution_count": 1,
   "metadata": {},
   "outputs": [],
   "source": [
    "# [장르, plays, index] 담은 리스트를 만들어 줄것임.\n",
    "# 그 후 정렬 기준을 다음과 같이 3개로 해서 \n",
    "\n",
    "# 1. Classic, pop 등 장르 합계 테이블 생성해야함. plays 합이 큰 순으로 정렬\n",
    "# 2. plays순으로 정렬 \n",
    "# 3. index순으로 정렬 \n",
    "\n",
    "\n",
    "def solution(genres, plays):\n",
    "    \n",
    "    # 장르별 총 plays수 테이블 생성. 내림차순으로 정렬해서 순서 저장\n",
    "    hash_map = {}\n",
    "    for i in set(genres):\n",
    "        hash_map[i] = 0\n",
    "    for i in range(len(genres)):\n",
    "        a,b = genres[i], plays[i]\n",
    "        hash_map[a] += b  \n",
    "    hash_map_tolist =[ k for k,v in sorted(hash_map.items(), key=lambda x: x[1], reverse=True)]\n",
    "    #print(hash_map_tolist)\n",
    "    \n",
    "    # [장르, 플레이수, 인덱스] 저장한 mylist 저장\n",
    "    mylist=[]\n",
    "    for i in range(len(genres)):\n",
    "        mylist.append([ genres[i] , plays[i], i ])\n",
    "    #print(mylist)\n",
    "\n",
    "\n",
    "    # 다음 세가지 순서 적용 : ############# \n",
    "        # hash_map_tolist, mylist에서 플레이수 내림차순, index순\n",
    "    \n",
    "    print( sorted(mylist, key= lambda x: (-x[1],x[2]))   )\n",
    "    \n",
    "    \n",
    "    \n",
    "    # 막힌부분 \n",
    "    # hash_map_tolist 첫번째로 정렬해야하는 조건인데 직접 지정하는 부분\n",
    "    # 그 다음에 plays, index 순으로 정렬하는걸 한번에 지정을 못하겠음.."
   ]
  },
  {
   "cell_type": "code",
   "execution_count": null,
   "metadata": {},
   "outputs": [],
   "source": []
  },
  {
   "cell_type": "code",
   "execution_count": 2,
   "metadata": {},
   "outputs": [
    {
     "name": "stdout",
     "output_type": "stream",
     "text": [
      "[['pop', 2500, 4], ['classic', 800, 3], ['pop', 600, 1], ['classic', 500, 0], ['classic', 150, 2]]\n"
     ]
    }
   ],
   "source": [
    "solution([\"classic\", \"pop\", \"classic\", \"classic\", \"pop\"],[500, 600, 150, 800, 2500])"
   ]
  },
  {
   "cell_type": "code",
   "execution_count": null,
   "metadata": {},
   "outputs": [],
   "source": []
  },
  {
   "cell_type": "code",
   "execution_count": null,
   "metadata": {},
   "outputs": [],
   "source": []
  }
 ],
 "metadata": {
  "kernelspec": {
   "display_name": "Python [default]",
   "language": "python",
   "name": "python3"
  },
  "language_info": {
   "codemirror_mode": {
    "name": "ipython",
    "version": 3
   },
   "file_extension": ".py",
   "mimetype": "text/x-python",
   "name": "python",
   "nbconvert_exporter": "python",
   "pygments_lexer": "ipython3",
   "version": "3.6.5"
  }
 },
 "nbformat": 4,
 "nbformat_minor": 2
}

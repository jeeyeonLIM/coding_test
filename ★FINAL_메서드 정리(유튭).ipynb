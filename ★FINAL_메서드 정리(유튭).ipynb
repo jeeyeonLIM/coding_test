{
 "cells": [
  {
   "cell_type": "markdown",
   "metadata": {},
   "source": [
    "2021.01.30. 토\n",
    "\n",
    "- 유용할만한 메서드를 정리해 놓은 유툽 강의를 발견했다! 아래 링크에 관련 자료가 있다.\n",
    "- https://www.youtube.com/watch?v=IPEgysPFRKI&t=122s\n",
    "- https://www.notion.so/a5a0fafe306e4cb78ec4476a272d156d?v=e116f6cdc6e34075bf8e4c0e56429a26\n"
   ]
  },
  {
   "cell_type": "markdown",
   "metadata": {},
   "source": [
    "### Built-in Functions"
   ]
  },
  {
   "cell_type": "code",
   "execution_count": 1,
   "metadata": {},
   "outputs": [
    {
     "data": {
      "text/plain": [
       "['__add__',\n",
       " '__class__',\n",
       " '__contains__',\n",
       " '__delattr__',\n",
       " '__delitem__',\n",
       " '__dir__',\n",
       " '__doc__',\n",
       " '__eq__',\n",
       " '__format__',\n",
       " '__ge__',\n",
       " '__getattribute__',\n",
       " '__getitem__',\n",
       " '__gt__',\n",
       " '__hash__',\n",
       " '__iadd__',\n",
       " '__imul__',\n",
       " '__init__',\n",
       " '__init_subclass__',\n",
       " '__iter__',\n",
       " '__le__',\n",
       " '__len__',\n",
       " '__lt__',\n",
       " '__mul__',\n",
       " '__ne__',\n",
       " '__new__',\n",
       " '__reduce__',\n",
       " '__reduce_ex__',\n",
       " '__repr__',\n",
       " '__reversed__',\n",
       " '__rmul__',\n",
       " '__setattr__',\n",
       " '__setitem__',\n",
       " '__sizeof__',\n",
       " '__str__',\n",
       " '__subclasshook__',\n",
       " 'append',\n",
       " 'clear',\n",
       " 'copy',\n",
       " 'count',\n",
       " 'extend',\n",
       " 'index',\n",
       " 'insert',\n",
       " 'pop',\n",
       " 'remove',\n",
       " 'reverse',\n",
       " 'sort']"
      ]
     },
     "execution_count": 1,
     "metadata": {},
     "output_type": "execute_result"
    }
   ],
   "source": [
    "# 일반적인 함수\n",
    "\n",
    "abs(-3) # 절대값 \n",
    "all([1,2,3]) # 모든 값이 참이면 True, 하나라도 거짓이면 False\n",
    "any([1,2,3]) # 하나라도 참이 있으면 True, 모두가 거짓일 경우 False\n",
    "dir([1,2,3,4]) # list metod 검색할 수 있음! "
   ]
  },
  {
   "cell_type": "code",
   "execution_count": 2,
   "metadata": {},
   "outputs": [
    {
     "data": {
      "text/plain": [
       "'!!!!!!!!!10,000.0000'"
      ]
     },
     "execution_count": 2,
     "metadata": {},
     "output_type": "execute_result"
    }
   ],
   "source": [
    "# format(숫자, 원하는 형식)\n",
    "\n",
    "format(1000000000, ',') # 원(\\)표시 \n",
    "format(1000000000, 'e') # 지수 표현\n",
    "format(1000000000, 'x') # 소문자 표현\n",
    "format(10000,'!>020,.4f')\n",
    "# !로 채워줄거고 \n",
    "# >오른쪽에 맞춰서 \n",
    "# 020 20자리로 맞춰줄거야 \n",
    "# , 원단위 표시할거야 \n",
    "# .4f 소수점 4번째 자리까지 출력할거야"
   ]
  },
  {
   "cell_type": "code",
   "execution_count": 3,
   "metadata": {},
   "outputs": [
    {
     "name": "stdout",
     "output_type": "stream",
     "text": [
      "[2, 4, 6, 8, 10, 12, 14, 16, 18] [0, 2, 4, 6, 8, 10, 12, 14, 16, 18] [0, 2, 4, 6, 8, 10, 12, 14, 16, 18]\n"
     ]
    }
   ],
   "source": [
    "# Filter(함수, 적용할 요소)\n",
    "\n",
    "# Methdod1 \n",
    "def jy(value):\n",
    "    if value %2 ==0:\n",
    "        return value\n",
    "    else:\n",
    "        return None\n",
    "M1=list(filter(jy, range(20)))\n",
    "\n",
    "# Method2\n",
    "M2= list(filter(lambda x: x%2 ==0 , range(20)))\n",
    "\n",
    "def jy2(value):\n",
    "    if value %2 ==0:\n",
    "        return True\n",
    "    else:\n",
    "        return False\n",
    "#이렇게 return 값에 True, False 직접 지정해줄 경우 True인 값만 반환한다.\n",
    "M3=list(filter(jy2, range(20)))\n",
    "\n",
    "print(M1, M2, M3) # 같은 결과가 나온다."
   ]
  },
  {
   "cell_type": "code",
   "execution_count": 4,
   "metadata": {},
   "outputs": [
    {
     "data": {
      "text/plain": [
       "[0, 2, 4, 6, 8, 10, 12, 14, 16, 18]"
      ]
     },
     "execution_count": 4,
     "metadata": {},
     "output_type": "execute_result"
    }
   ],
   "source": [
    "# List Comprehension\n",
    "[i for i in range(20) if i %2 ==0]"
   ]
  },
  {
   "cell_type": "code",
   "execution_count": 5,
   "metadata": {},
   "outputs": [
    {
     "data": {
      "text/plain": [
       "4"
      ]
     },
     "execution_count": 5,
     "metadata": {},
     "output_type": "execute_result"
    }
   ],
   "source": [
    "# Len \n",
    "\n",
    "len([1,2,3,4]) "
   ]
  },
  {
   "cell_type": "code",
   "execution_count": 6,
   "metadata": {},
   "outputs": [
    {
     "name": "stdout",
     "output_type": "stream",
     "text": [
      "[0, 2, 4, 6, 8, 10, 12, 14, 16, 18] \n",
      " [True, False, True, False, True, False, True, False, True, False, True, False, True, False, True, False, True, False, True, False]\n"
     ]
    }
   ],
   "source": [
    "# map(function, 값)\n",
    "\n",
    "print( list(filter(lambda x: x%2 ==0 , range(20))), # filter는 값을 출력\n",
    "      '\\n',\n",
    "      list(map(lambda x: x%2 ==0 , range(20))))\n",
    "\n",
    "# filter : 결과값에 해당하는 값을 출력  \n",
    "# map : 결과값 출력"
   ]
  },
  {
   "cell_type": "code",
   "execution_count": 7,
   "metadata": {},
   "outputs": [
    {
     "data": {
      "text/plain": [
       "[('a', 1, 10, 'A'), ('b', 2, 20, 'B'), ('c', 3, 30, 'C'), ('d', 4, 40, 'D')]"
      ]
     },
     "execution_count": 7,
     "metadata": {},
     "output_type": "execute_result"
    }
   ],
   "source": [
    "# zip\n",
    "\n",
    "list(zip(['a','b','c','d'],[1,2,3,4],[10,20,30,40],'ABCD'))"
   ]
  },
  {
   "cell_type": "code",
   "execution_count": 8,
   "metadata": {},
   "outputs": [
    {
     "data": {
      "text/plain": [
       "(4, 1)"
      ]
     },
     "execution_count": 8,
     "metadata": {},
     "output_type": "execute_result"
    }
   ],
   "source": [
    "# min, max\n",
    "\n",
    "max([1,2,3,4]), min([1,2,3,4])"
   ]
  },
  {
   "cell_type": "code",
   "execution_count": 9,
   "metadata": {},
   "outputs": [
    {
     "name": "stdout",
     "output_type": "stream",
     "text": [
      "[3, 4, 5, 6, 7, 10]\n"
     ]
    }
   ],
   "source": [
    "# sorted, sort\n",
    "\n",
    "\n",
    "# sorted는 return 값을 내주는 것. \n",
    "testCase1=['abc','def','hello world', 'hello', 'python']\n",
    "testCase2='Life is too short, You need python'.split()\n",
    "testCase3=list(zip('anvfe',[1,3,2,4,5]))\n",
    "sorted(testCase1, key=len, reverse=True) # 길이 순으로 정렬, 역순\n",
    "sorted(testCase2, key=str.lower) # 대소문자 구별 없이 맨 앞 알파벳 순으로 정렬됨.\n",
    "sorted(testCase3, key= lambda x: x[1]) # 두번째 원소 기준 정렬\n",
    "    ### 이렇게 list 내 tuple 형태일 때 dictionary 정렬하고 싶을 때 사용하기 유용함!!! \n",
    "\n",
    "# 반면, sort는 list를 직접 정렬로 바꿔주는 것임.\n",
    "l=[10,4,5,3,6,7]\n",
    "l.sort()\n",
    "print(l)"
   ]
  },
  {
   "cell_type": "code",
   "execution_count": 10,
   "metadata": {},
   "outputs": [
    {
     "data": {
      "text/plain": [
       "False"
      ]
     },
     "execution_count": 10,
     "metadata": {},
     "output_type": "execute_result"
    }
   ],
   "source": [
    "# in, not in\n",
    "\n",
    "5 in [1,2,3,4,5]\n",
    "5 not in [1,2,3,4,5]"
   ]
  },
  {
   "cell_type": "code",
   "execution_count": 11,
   "metadata": {},
   "outputs": [],
   "source": [
    "# dir(l)\n",
    "\n",
    "# 'append',  # 하나의 요소 추가\n",
    "#  'clear',  # 모든 요소를 없애기 \n",
    "#  'copy',   # 리스트를 function으로 넘길 때 복사함.\n",
    "#  'count',  # 갯수 세주기\n",
    "#  'extend', # 요소 한번에 많이 추가할 때\n",
    "#  'index',  # 요소 찾을 때 \n",
    "#  'insert', # 해당되는 자리에 요소 넣을 때\n",
    "#  'pop',    # 뒤에서 값을 꺼낼 때 \n",
    "#  'remove', # 요소의 값을 지울 때! 속도가 O(n)이므로 del로 지우는 것이 더 좋음.\n",
    "#  'reverse',# 역순\n",
    "#  'sort'    # 정렬"
   ]
  },
  {
   "cell_type": "code",
   "execution_count": 12,
   "metadata": {},
   "outputs": [
    {
     "data": {
      "text/plain": [
       "[1, 2, 3, 4, 5]"
      ]
     },
     "execution_count": 12,
     "metadata": {},
     "output_type": "execute_result"
    }
   ],
   "source": [
    "# copy\n",
    "\n",
    "def listChange(x):\n",
    "    x[0] = 1000\n",
    "    \n",
    "l=[1,2,3,4,5]\n",
    "# listChange(l) # 이렇게 하면 l 자체를 바꿔버림.\n",
    "listChange(l.copy()) #따라서 이렇게 copy해준 후 값을 변경해야 l에 영향을 주지 않음.\n",
    "l # "
   ]
  },
  {
   "cell_type": "code",
   "execution_count": 13,
   "metadata": {},
   "outputs": [
    {
     "data": {
      "text/plain": [
       "[20]"
      ]
     },
     "execution_count": 13,
     "metadata": {},
     "output_type": "execute_result"
    }
   ],
   "source": [
    "# append + pop\n",
    "\n",
    "l=[]\n",
    "l.append(10)\n",
    "l.append(20)\n",
    "l.append(30)\n",
    "\n",
    "# 큐와 스택 방식\n",
    "l.pop(0) # 0번째 index 추출 ! 큐의 구조~! (10값 빼줌)\n",
    "l.pop()  # 가장 늦게 들어온 애를 추출# stack의 구조\n",
    "l"
   ]
  },
  {
   "cell_type": "code",
   "execution_count": 14,
   "metadata": {},
   "outputs": [
    {
     "data": {
      "text/plain": [
       "['__add__',\n",
       " '__class__',\n",
       " '__contains__',\n",
       " '__delattr__',\n",
       " '__dir__',\n",
       " '__doc__',\n",
       " '__eq__',\n",
       " '__format__',\n",
       " '__ge__',\n",
       " '__getattribute__',\n",
       " '__getitem__',\n",
       " '__getnewargs__',\n",
       " '__gt__',\n",
       " '__hash__',\n",
       " '__init__',\n",
       " '__init_subclass__',\n",
       " '__iter__',\n",
       " '__le__',\n",
       " '__len__',\n",
       " '__lt__',\n",
       " '__mul__',\n",
       " '__ne__',\n",
       " '__new__',\n",
       " '__reduce__',\n",
       " '__reduce_ex__',\n",
       " '__repr__',\n",
       " '__rmul__',\n",
       " '__setattr__',\n",
       " '__sizeof__',\n",
       " '__str__',\n",
       " '__subclasshook__',\n",
       " 'count',\n",
       " 'index']"
      ]
     },
     "execution_count": 14,
     "metadata": {},
     "output_type": "execute_result"
    }
   ],
   "source": [
    "# tuple\n",
    "\n",
    "t=(1,2,3)\n",
    "dir(t) # count, index는 앞서 list에서 한 것처럼 같은 방식으로 사용하면 됨."
   ]
  },
  {
   "cell_type": "code",
   "execution_count": 15,
   "metadata": {},
   "outputs": [
    {
     "data": {
      "text/plain": [
       "['__class__',\n",
       " '__contains__',\n",
       " '__delattr__',\n",
       " '__delitem__',\n",
       " '__dir__',\n",
       " '__doc__',\n",
       " '__eq__',\n",
       " '__format__',\n",
       " '__ge__',\n",
       " '__getattribute__',\n",
       " '__getitem__',\n",
       " '__gt__',\n",
       " '__hash__',\n",
       " '__init__',\n",
       " '__init_subclass__',\n",
       " '__iter__',\n",
       " '__le__',\n",
       " '__len__',\n",
       " '__lt__',\n",
       " '__ne__',\n",
       " '__new__',\n",
       " '__reduce__',\n",
       " '__reduce_ex__',\n",
       " '__repr__',\n",
       " '__setattr__',\n",
       " '__setitem__',\n",
       " '__sizeof__',\n",
       " '__str__',\n",
       " '__subclasshook__',\n",
       " 'clear',\n",
       " 'copy',\n",
       " 'fromkeys',\n",
       " 'get',\n",
       " 'items',\n",
       " 'keys',\n",
       " 'pop',\n",
       " 'popitem',\n",
       " 'setdefault',\n",
       " 'update',\n",
       " 'values']"
      ]
     },
     "execution_count": 15,
     "metadata": {},
     "output_type": "execute_result"
    }
   ],
   "source": [
    "# dictionary\n",
    "\n",
    "d={'one':'하나','two':'둘'}\n",
    "dir(d)"
   ]
  },
  {
   "cell_type": "code",
   "execution_count": 16,
   "metadata": {},
   "outputs": [
    {
     "data": {
      "text/plain": [
       "dict_items([('one', '하나'), ('two', '둘')])"
      ]
     },
     "execution_count": 16,
     "metadata": {},
     "output_type": "execute_result"
    }
   ],
   "source": [
    "d.keys()\n",
    "d.values()\n",
    "d.items() # zip에서와 같은 방식~! "
   ]
  },
  {
   "cell_type": "code",
   "execution_count": 17,
   "metadata": {},
   "outputs": [
    {
     "data": {
      "text/plain": [
       "{'two': '둘'}"
      ]
     },
     "execution_count": 17,
     "metadata": {},
     "output_type": "execute_result"
    }
   ],
   "source": [
    "del d['one']\n",
    "d"
   ]
  },
  {
   "cell_type": "code",
   "execution_count": 18,
   "metadata": {},
   "outputs": [
    {
     "data": {
      "text/plain": [
       "{'two': '둘', 'one': '하나'}"
      ]
     },
     "execution_count": 18,
     "metadata": {},
     "output_type": "execute_result"
    }
   ],
   "source": [
    "d['one'] = '하나'\n",
    "d"
   ]
  },
  {
   "cell_type": "code",
   "execution_count": 19,
   "metadata": {},
   "outputs": [
    {
     "data": {
      "text/plain": [
       "{'1', '2', '3', '4', '5', '6', '7'}"
      ]
     },
     "execution_count": 19,
     "metadata": {},
     "output_type": "execute_result"
    }
   ],
   "source": [
    "# set :중복 제거 용도로 활용할 수 있음. but 순서가 없다.\n",
    "    # issue5. 참고 \n",
    "\n",
    "s=set('111223455677')\n",
    "s\n",
    "\n",
    "# 집합연산 \n",
    "#dir(s)\n",
    "#  'add',\n",
    "#  'clear',\n",
    "#  'copy',\n",
    "#  'difference',            # 차집합집합1.different(집합2번째) \n",
    "#  'difference_update',\n",
    "#  'discard',\n",
    "#  'intersection',\n",
    "#  'intersection_update',\n",
    "#  'isdisjoint',\n",
    "#  'issubset',\n",
    "#  'issuperset',\n",
    "#  'pop',\n",
    "#  'remove',\n",
    "#  'symmetric_difference',\n",
    "#  'symmetric_difference_update',\n",
    "#  'union',                 # 합집합 \n",
    "#  'update'                # 한꺼번에 많은 데이터를 추가 "
   ]
  },
  {
   "cell_type": "code",
   "execution_count": 20,
   "metadata": {},
   "outputs": [
    {
     "data": {
      "text/plain": [
       "True"
      ]
     },
     "execution_count": 20,
     "metadata": {},
     "output_type": "execute_result"
    }
   ],
   "source": [
    "s.add(7)\n",
    "s.discard(7)\n",
    "\n",
    "'1' in s"
   ]
  },
  {
   "cell_type": "code",
   "execution_count": 21,
   "metadata": {},
   "outputs": [
    {
     "name": "stdout",
     "output_type": "stream",
     "text": [
      "{'C'}\n",
      "{'B', 'A'}\n",
      "2\n",
      "{'D', 'C', 'B', 'A'}\n"
     ]
    }
   ],
   "source": [
    "판콜에이 = {'A','B','C'}\n",
    "타이레놀 = {'A','B','D'}\n",
    "\n",
    "print(판콜에이.difference(타이레놀)) # 차집합. 판콜에이-타이레놀 \n",
    "print(판콜에이.intersection(타이레놀)) # 교집합\n",
    "print(len(판콜에이.intersection(타이레놀))) # 같은 원소의 갯수를 구해라.\n",
    "print(판콜에이.union(타이레놀))\n"
   ]
  },
  {
   "cell_type": "code",
   "execution_count": 22,
   "metadata": {},
   "outputs": [
    {
     "data": {
      "text/plain": [
       "{'파이': 1, '라이캣': 2, '자바독': 2, '개리': 3, '썬': 1}"
      ]
     },
     "execution_count": 22,
     "metadata": {},
     "output_type": "execute_result"
    }
   ],
   "source": [
    "### 관련한 예제~ ! \n",
    "# 단톡방에 x마리의 동물이 대화를 하고 있다.\n",
    "# 각각 동물들이 톡을 전송할 때마다 서버에는 아래와 같이 저장된다.\n",
    "serverData='개리 라이캣 개리 개리 라이캣 자바독 자바독 파이 썬'\n",
    "\n",
    "# 1. 단톡방에는 모두 몇마리 동물이 있나? (톡은 무조건 1회 이상 전송함)\n",
    "len(set(serverData.split())) \n",
    "\n",
    "# 2. 단톡방에 동물들마다 몇 번의 톡을 올렸을까? \n",
    "hashmap={}\n",
    "for i in set(serverData.split()):\n",
    "    hashmap[i] = serverData.split().count(i)\n",
    "hashmap\n"
   ]
  },
  {
   "cell_type": "code",
   "execution_count": 23,
   "metadata": {},
   "outputs": [
    {
     "data": {
      "text/plain": [
       "[1, 2, 3, 4, 5, 6, 7]"
      ]
     },
     "execution_count": 23,
     "metadata": {},
     "output_type": "execute_result"
    }
   ],
   "source": [
    "#Q. 문자열로 쪼개진 것을 어떻게 숫자형으로 바꿀 수 있을까?\n",
    "\n",
    "# method1\n",
    "[int(i) for i in '1 2 3 4 5 6 7'.split() ]\n",
    "\n",
    "# method2 - map의 function을 int로 주기!!!!\n",
    "list(map(int,'1 2 3 4 5 6 7'.split() ))"
   ]
  },
  {
   "cell_type": "code",
   "execution_count": null,
   "metadata": {},
   "outputs": [],
   "source": []
  }
 ],
 "metadata": {
  "kernelspec": {
   "display_name": "Python [default]",
   "language": "python",
   "name": "python3"
  },
  "language_info": {
   "codemirror_mode": {
    "name": "ipython",
    "version": 3
   },
   "file_extension": ".py",
   "mimetype": "text/x-python",
   "name": "python",
   "nbconvert_exporter": "python",
   "pygments_lexer": "ipython3",
   "version": "3.6.5"
  }
 },
 "nbformat": 4,
 "nbformat_minor": 2
}

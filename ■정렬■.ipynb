{
 "cells": [
  {
   "cell_type": "markdown",
   "metadata": {},
   "source": [
    "### 대소문자 관계없이 abc순 정렬(SH)\n"
   ]
  },
  {
   "cell_type": "code",
   "execution_count": 29,
   "metadata": {},
   "outputs": [],
   "source": [
    "def solution(strings):\n",
    "    strings_list= [i for i in strings]\n",
    "    strings_list.sort(key= str.lower) \n",
    "        # key =str.lower : 이 옵션으로 하면 소문자가 대문자보다 우선함.\n",
    "    return strings_list"
   ]
  },
  {
   "cell_type": "code",
   "execution_count": 30,
   "metadata": {},
   "outputs": [
    {
     "data": {
      "text/plain": [
       "['a', 'A', 'B', 'c', 'd', 'E', 'f', 'g']"
      ]
     },
     "execution_count": 30,
     "metadata": {},
     "output_type": "execute_result"
    }
   ],
   "source": [
    "solution('BaAcEdgf')"
   ]
  },
  {
   "cell_type": "markdown",
   "metadata": {},
   "source": [
    "### K번째 수"
   ]
  },
  {
   "cell_type": "code",
   "execution_count": 58,
   "metadata": {},
   "outputs": [],
   "source": [
    "def solution(array, commands):\n",
    "    answer = []\n",
    "    \n",
    "    for i in commands: # 반복적으로 확인해야 할것은 commands 부분\n",
    "        answer.append( sorted(array[i[0]-1:i[1]])[i[2]-1] )\n",
    "            # array 에서 index가 i[0]-1 부터 i[1]] 까지 (index는 [0:4] 이렇게 지정하면 0~3까지를 의미함)\n",
    "            # sorted(array[i[0]-1:i[1]]) : 다음 정렬 \n",
    "            # k번째 수는 index는 -1이므로 [i[2]-1] 지정\n",
    "    return answer"
   ]
  },
  {
   "cell_type": "code",
   "execution_count": 59,
   "metadata": {},
   "outputs": [
    {
     "data": {
      "text/plain": [
       "[5, 6, 3]"
      ]
     },
     "execution_count": 59,
     "metadata": {},
     "output_type": "execute_result"
    }
   ],
   "source": [
    "solution([1, 5, 2, 6, 3, 7, 4], \n",
    "         [[2, 5, 3], [4, 4, 1], [1, 7, 3]])"
   ]
  },
  {
   "cell_type": "markdown",
   "metadata": {},
   "source": [
    "### 가장 큰 수\n",
    "- 쉽지가 않다\n",
    "- numbers [3, 30, 34, 5, 9] 이렇게 있을 때 각각 원소가 1,000 미만이므로 \n",
    "- 3이라고 하면 3333, 3030, 3434, 5555, 9999 이렇게 비교해준다는 의미가 된다.\n",
    "- 즉, 9999 > 5555 > 3434 > 3333 > 3030 이런 대소 관계에 의하여 정렬이 됨.\n",
    "- 그 후 join하여 문자열로 만들어주면 된다."
   ]
  },
  {
   "cell_type": "code",
   "execution_count": 100,
   "metadata": {},
   "outputs": [],
   "source": [
    "def solution(numbers):\n",
    "    \n",
    "    numbers= sorted( map(str, numbers),   # 원소를 전부 str로 치환하기\n",
    "                    reverse=True,         # x*3이 큰 숫자대로 역순 정렬\n",
    "                    key = lambda x : x*3) # 3자리를 뒤에 더해주기(최대 천의자리)\n",
    "    return ''.join(numbers)"
   ]
  },
  {
   "cell_type": "code",
   "execution_count": 101,
   "metadata": {},
   "outputs": [
    {
     "data": {
      "text/plain": [
       "'6210'"
      ]
     },
     "execution_count": 101,
     "metadata": {},
     "output_type": "execute_result"
    }
   ],
   "source": [
    "solution([6, 10, 2])"
   ]
  },
  {
   "cell_type": "code",
   "execution_count": 102,
   "metadata": {},
   "outputs": [
    {
     "data": {
      "text/plain": [
       "'9534330'"
      ]
     },
     "execution_count": 102,
     "metadata": {},
     "output_type": "execute_result"
    }
   ],
   "source": [
    "solution([3, 30, 34, 5, 9])"
   ]
  },
  {
   "cell_type": "markdown",
   "metadata": {},
   "source": [
    "### H-index"
   ]
  },
  {
   "cell_type": "code",
   "execution_count": 148,
   "metadata": {},
   "outputs": [],
   "source": [
    "def solution(citations):\n",
    "    for i in reversed(range(max(citations)-1) ):  # reversed(범위)\n",
    "        print(i)\n",
    "        if i <= len([c for c in citations if c>=i ]): # \n",
    "            return i\n",
    "            break\n",
    "    return 0 # 예외 [0,0,0] 인 경우를 처리해주기 위해서 \n"
   ]
  },
  {
   "cell_type": "code",
   "execution_count": 149,
   "metadata": {},
   "outputs": [
    {
     "name": "stdout",
     "output_type": "stream",
     "text": [
      "4\n",
      "3\n"
     ]
    },
    {
     "data": {
      "text/plain": [
       "3"
      ]
     },
     "execution_count": 149,
     "metadata": {},
     "output_type": "execute_result"
    }
   ],
   "source": [
    "solution([3, 0, 6, 1, 5])"
   ]
  },
  {
   "cell_type": "code",
   "execution_count": 150,
   "metadata": {},
   "outputs": [
    {
     "data": {
      "text/plain": [
       "0"
      ]
     },
     "execution_count": 150,
     "metadata": {},
     "output_type": "execute_result"
    }
   ],
   "source": [
    "# test case 16 \n",
    "solution([0,0,0])"
   ]
  },
  {
   "cell_type": "code",
   "execution_count": null,
   "metadata": {},
   "outputs": [],
   "source": []
  }
 ],
 "metadata": {
  "kernelspec": {
   "display_name": "Python [default]",
   "language": "python",
   "name": "python3"
  },
  "language_info": {
   "codemirror_mode": {
    "name": "ipython",
    "version": 3
   },
   "file_extension": ".py",
   "mimetype": "text/x-python",
   "name": "python",
   "nbconvert_exporter": "python",
   "pygments_lexer": "ipython3",
   "version": "3.6.5"
  }
 },
 "nbformat": 4,
 "nbformat_minor": 2
}

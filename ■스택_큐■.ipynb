{
 "cells": [
  {
   "cell_type": "markdown",
   "metadata": {},
   "source": [
    "### 다리를 지나는 트럭"
   ]
  },
  {
   "cell_type": "code",
   "execution_count": null,
   "metadata": {},
   "outputs": [],
   "source": [
    "def solution(bridge_length, weight, truck_weights):\n",
    "    answer = 0    \n",
    "    bridge=[0]*bridge_length        # bridge 길이만큼 채워주기\n",
    "    while len(truck_weights) > 0:  # truck_weights가 빈 리스트가 될때까지 반복.\n",
    "        answer += 1\n",
    "        if sum(bridge[1:]) + truck_weights[0] > weight:  \n",
    "            # 곧 나갈 bridge의 첫번째 값을 제거한 값과 새로 들어올 값이 weight 이상이면 다리에 오를 수 없음.\n",
    "            bridge.append(0)\n",
    "        else:\n",
    "            bridge.append(truck_weights.pop(0))\n",
    "        bridge = bridge[-bridge_length:]\n",
    "        print(bridge, truck_weights, answer)\n",
    "    return answer+bridge_length\n"
   ]
  },
  {
   "cell_type": "code",
   "execution_count": null,
   "metadata": {},
   "outputs": [],
   "source": []
  },
  {
   "cell_type": "code",
   "execution_count": null,
   "metadata": {},
   "outputs": [],
   "source": []
  },
  {
   "cell_type": "markdown",
   "metadata": {},
   "source": [
    "### 주식가격"
   ]
  },
  {
   "cell_type": "code",
   "execution_count": null,
   "metadata": {},
   "outputs": [],
   "source": [
    "def solution(prices):\n",
    "    answer = [0] * len(prices)\n",
    "\n",
    "    for i in range(len(prices)-1):\n",
    "        for j in range(i, len(prices)-1):\n",
    "            if prices[i] >prices[j]:\n",
    "                break\n",
    "            else:\n",
    "                answer[i] +=1\n",
    "    return answer"
   ]
  },
  {
   "cell_type": "code",
   "execution_count": 66,
   "metadata": {},
   "outputs": [],
   "source": [
    "def solution(prices):\n",
    "    answer = [0]*len(prices)\n",
    "    cnt = 0\n",
    "    #while len(prices) > 0 : # 굳이 이렇게 안써도 됨.\n",
    "    while prices:\n",
    "        first= prices.pop(0)\n",
    "        for i in range(len(prices)):\n",
    "            print(first, prices)\n",
    "            \n",
    "        cnt += 1\n",
    "    return answer\n"
   ]
  },
  {
   "cell_type": "code",
   "execution_count": 67,
   "metadata": {},
   "outputs": [
    {
     "name": "stdout",
     "output_type": "stream",
     "text": [
      "1 [2, 3, 2, 3]\n",
      "1 [2, 3, 2, 3]\n",
      "1 [2, 3, 2, 3]\n",
      "1 [2, 3, 2, 3]\n",
      "2 [3, 2, 3]\n",
      "2 [3, 2, 3]\n",
      "2 [3, 2, 3]\n",
      "3 [2, 3]\n",
      "3 [2, 3]\n",
      "2 [3]\n"
     ]
    },
    {
     "data": {
      "text/plain": [
       "[0, 0, 0, 0, 0]"
      ]
     },
     "execution_count": 67,
     "metadata": {},
     "output_type": "execute_result"
    }
   ],
   "source": [
    "solution([1, 2, 3, 2, 3])"
   ]
  },
  {
   "cell_type": "code",
   "execution_count": 68,
   "metadata": {},
   "outputs": [
    {
     "name": "stdout",
     "output_type": "stream",
     "text": [
      "1 [2, 1, 2, 1, 0]\n",
      "1 [2, 1, 2, 1, 0]\n",
      "1 [2, 1, 2, 1, 0]\n",
      "1 [2, 1, 2, 1, 0]\n",
      "1 [2, 1, 2, 1, 0]\n",
      "2 [1, 2, 1, 0]\n",
      "2 [1, 2, 1, 0]\n",
      "2 [1, 2, 1, 0]\n",
      "2 [1, 2, 1, 0]\n",
      "1 [2, 1, 0]\n",
      "1 [2, 1, 0]\n",
      "1 [2, 1, 0]\n",
      "2 [1, 0]\n",
      "2 [1, 0]\n",
      "1 [0]\n"
     ]
    },
    {
     "data": {
      "text/plain": [
       "[0, 0, 0, 0, 0, 0]"
      ]
     },
     "execution_count": 68,
     "metadata": {},
     "output_type": "execute_result"
    }
   ],
   "source": [
    "solution([1, 2, 1, 2, 1, 0])"
   ]
  },
  {
   "cell_type": "markdown",
   "metadata": {},
   "source": [
    "### 기능개발"
   ]
  },
  {
   "cell_type": "code",
   "execution_count": null,
   "metadata": {},
   "outputs": [],
   "source": []
  },
  {
   "cell_type": "code",
   "execution_count": null,
   "metadata": {},
   "outputs": [],
   "source": []
  },
  {
   "cell_type": "markdown",
   "metadata": {},
   "source": [
    "### 프린터"
   ]
  },
  {
   "cell_type": "code",
   "execution_count": null,
   "metadata": {},
   "outputs": [],
   "source": []
  },
  {
   "cell_type": "code",
   "execution_count": null,
   "metadata": {},
   "outputs": [],
   "source": []
  },
  {
   "cell_type": "code",
   "execution_count": null,
   "metadata": {},
   "outputs": [],
   "source": []
  },
  {
   "cell_type": "code",
   "execution_count": null,
   "metadata": {},
   "outputs": [],
   "source": []
  },
  {
   "cell_type": "code",
   "execution_count": null,
   "metadata": {},
   "outputs": [],
   "source": []
  }
 ],
 "metadata": {
  "kernelspec": {
   "display_name": "Python [default]",
   "language": "python",
   "name": "python3"
  },
  "language_info": {
   "codemirror_mode": {
    "name": "ipython",
    "version": 3
   },
   "file_extension": ".py",
   "mimetype": "text/x-python",
   "name": "python",
   "nbconvert_exporter": "python",
   "pygments_lexer": "ipython3",
   "version": "3.6.5"
  }
 },
 "nbformat": 4,
 "nbformat_minor": 2
}
